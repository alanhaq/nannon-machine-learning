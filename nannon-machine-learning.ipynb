{
 "cells": [
  {
   "cell_type": "code",
   "execution_count": 97,
   "metadata": {},
   "outputs": [
    {
     "name": "stdout",
     "output_type": "stream",
     "text": [
      "The autoreload extension is already loaded. To reload it, use:\n",
      "  %reload_ext autoreload\n"
     ]
    }
   ],
   "source": [
    "%load_ext autoreload\n",
    "%autoreload 2"
   ]
  },
  {
   "cell_type": "code",
   "execution_count": 98,
   "metadata": {},
   "outputs": [],
   "source": [
    "from nannon import *"
   ]
  },
  {
   "cell_type": "code",
   "execution_count": 4,
   "metadata": {},
   "outputs": [
    {
     "data": {
      "text/plain": [
       "((0, 1, 2), (0, 1, 2))"
      ]
     },
     "execution_count": 4,
     "metadata": {},
     "output_type": "execute_result"
    }
   ],
   "source": [
    "start_pos"
   ]
  },
  {
   "cell_type": "code",
   "execution_count": 5,
   "metadata": {},
   "outputs": [
    {
     "data": {
      "text/plain": [
       "(7, 7, 7)"
      ]
     },
     "execution_count": 5,
     "metadata": {},
     "output_type": "execute_result"
    }
   ],
   "source": [
    "end_tuple"
   ]
  },
  {
   "cell_type": "code",
   "execution_count": 6,
   "metadata": {},
   "outputs": [
    {
     "data": {
      "text/plain": [
       "5"
      ]
     },
     "execution_count": 6,
     "metadata": {},
     "output_type": "execute_result"
    }
   ],
   "source": [
    "roll()"
   ]
  },
  {
   "cell_type": "code",
   "execution_count": 7,
   "metadata": {},
   "outputs": [
    {
     "data": {
      "text/plain": [
       "2"
      ]
     },
     "execution_count": 7,
     "metadata": {},
     "output_type": "execute_result"
    }
   ],
   "source": [
    "first_roll()"
   ]
  },
  {
   "cell_type": "code",
   "execution_count": 8,
   "metadata": {},
   "outputs": [
    {
     "name": "stdout",
     "output_type": "stream",
     "text": [
      "   oo||o--**-||*  \n",
      "((0, 2, 3), (0, 0, 1))\n",
      "    o||-oo--*||** \n"
     ]
    }
   ],
   "source": [
    "pos = ((0, 0, 1), (0, 2, 3))\n",
    "print_board(pos)\n",
    "swapped = swap_players(pos)\n",
    "print(swapped)\n",
    "print_board(swapped)"
   ]
  },
  {
   "cell_type": "code",
   "execution_count": 9,
   "metadata": {},
   "outputs": [
    {
     "name": "stdout",
     "output_type": "stream",
     "text": [
      "   oo||o--**-||*  \n",
      "0.5\n",
      "     ||-----*||** \n",
      "1.0\n",
      "   oo||o-----||   \n",
      "0.0\n"
     ]
    }
   ],
   "source": [
    "pos = ((0, 0, 1), (0, 2, 3))\n",
    "print_board(pos)\n",
    "print(who_won(pos))\n",
    "\n",
    "pos = ((7, 7, 7), (0, 0, 1))\n",
    "print_board(pos)\n",
    "print(who_won(pos))\n",
    "\n",
    "pos = ((0, 0, 1), (7, 7, 7))\n",
    "print_board(pos)\n",
    "print(who_won(pos))"
   ]
  },
  {
   "cell_type": "code",
   "execution_count": 10,
   "metadata": {},
   "outputs": [
    {
     "name": "stdout",
     "output_type": "stream",
     "text": [
      "   oo||o--**-||*  \n",
      "[0, 2]\n"
     ]
    },
    {
     "data": {
      "text/plain": [
       "[0]"
      ]
     },
     "execution_count": 10,
     "metadata": {},
     "output_type": "execute_result"
    }
   ],
   "source": [
    "pos = ((0, 0, 1), (0, 2, 3))\n",
    "print_board(pos)\n",
    "print(legal_moves(pos, 2))\n",
    "legal_moves(pos, 3)"
   ]
  },
  {
   "cell_type": "code",
   "execution_count": 11,
   "metadata": {},
   "outputs": [
    {
     "name": "stdout",
     "output_type": "stream",
     "text": [
      "     ||ooo***||   \n"
     ]
    },
    {
     "data": {
      "text/plain": [
       "[-1]"
      ]
     },
     "execution_count": 11,
     "metadata": {},
     "output_type": "execute_result"
    }
   ],
   "source": [
    "pos = ((1, 2, 3), (1, 2, 3))\n",
    "print_board(pos)\n",
    "legal_moves(pos, 2)"
   ]
  },
  {
   "cell_type": "code",
   "execution_count": 12,
   "metadata": {},
   "outputs": [
    {
     "name": "stdout",
     "output_type": "stream",
     "text": [
      "start\n",
      "    o||oo--**||*  \n",
      "lm with die 3 [0, 1] \n",
      "\n",
      "m0\n",
      "     ||ooo-**||*  \n",
      "m1\n",
      "    o||-o-o**||*  \n"
     ]
    }
   ],
   "source": [
    "pos = ((0, 1, 2), (0, 1, 2))\n",
    "die = 3\n",
    "print('start')\n",
    "print_board(pos)\n",
    "lm = legal_moves(pos, die)\n",
    "print('lm with die', die, lm, '\\n')\n",
    "\n",
    "m0 = make_move(pos, 0, die)\n",
    "print('m0')\n",
    "print_board(m0)\n",
    "\n",
    "m1 = make_move(pos, 1, die)\n",
    "print('m1')\n",
    "print_board(m1)"
   ]
  },
  {
   "cell_type": "code",
   "execution_count": 13,
   "metadata": {},
   "outputs": [
    {
     "name": "stdout",
     "output_type": "stream",
     "text": [
      "2530\n",
      "{((6, 7, 7), (4, 5, 6)): 0.5, ((0, 4, 7), (5, 6, 7)): 0.5, ((0, 0, 0), (1, 3, 6)): 0.5, ((3, 5, 6), (3, 5, 6)): 0.5, ((2, 7, 7), (0, 0, 2)): 0.5}\n"
     ]
    }
   ],
   "source": [
    "pos_dict = explore()\n",
    "print(len(pos_dict))\n",
    "print(dict(list(pos_dict.items())[:5]))"
   ]
  },
  {
   "cell_type": "code",
   "execution_count": 14,
   "metadata": {},
   "outputs": [
    {
     "data": {
      "text/plain": [
       "<function nannon.players.rand_play(pos, roll)>"
      ]
     },
     "execution_count": 14,
     "metadata": {},
     "output_type": "execute_result"
    }
   ],
   "source": [
    "rand_play"
   ]
  },
  {
   "cell_type": "code",
   "execution_count": 15,
   "metadata": {},
   "outputs": [
    {
     "name": "stdout",
     "output_type": "stream",
     "text": [
      "    o||oo--**||*  \n",
      "((0, 2, 3), (0, 1, 2))\n",
      "    o||-oo-**||*  \n"
     ]
    }
   ],
   "source": [
    "die = 2\n",
    "print_board(start_pos)\n",
    "npos = rand_play(start_pos, die)\n",
    "print(npos)\n",
    "print_board(npos)"
   ]
  },
  {
   "cell_type": "code",
   "execution_count": 16,
   "metadata": {},
   "outputs": [
    {
     "data": {
      "text/plain": [
       "<function nannon.players.first_play(pos, roll)>"
      ]
     },
     "execution_count": 16,
     "metadata": {},
     "output_type": "execute_result"
    }
   ],
   "source": [
    "first_play"
   ]
  },
  {
   "cell_type": "code",
   "execution_count": 17,
   "metadata": {},
   "outputs": [
    {
     "name": "stdout",
     "output_type": "stream",
     "text": [
      "    o||oo--**||*  \n",
      "((0, 1, 4), (0, 1, 2))\n",
      "    o||o--o**||*  \n"
     ]
    }
   ],
   "source": [
    "die = 2\n",
    "print_board(start_pos)\n",
    "npos = first_play(start_pos, die)\n",
    "print(npos)\n",
    "print_board(npos)"
   ]
  },
  {
   "cell_type": "code",
   "execution_count": 18,
   "metadata": {},
   "outputs": [
    {
     "data": {
      "text/plain": [
       "'second'"
      ]
     },
     "execution_count": 18,
     "metadata": {},
     "output_type": "execute_result"
    }
   ],
   "source": [
    "play_game(rand_play, first_play)"
   ]
  },
  {
   "cell_type": "code",
   "execution_count": 19,
   "metadata": {},
   "outputs": [
    {
     "data": {
      "text/plain": [
       "0.5385"
      ]
     },
     "execution_count": 19,
     "metadata": {},
     "output_type": "execute_result"
    }
   ],
   "source": [
    "play_tourn(rand_play, first_play)"
   ]
  },
  {
   "cell_type": "code",
   "execution_count": 10,
   "metadata": {},
   "outputs": [
    {
     "data": {
      "text/plain": [
       "array([[0, 1, 0, 0],\n",
       "       [0, 0, 0, 0],\n",
       "       [1, 1, 0, 0],\n",
       "       [1, 1, 1, 0]])"
      ]
     },
     "execution_count": 10,
     "metadata": {},
     "output_type": "execute_result"
    }
   ],
   "source": [
    "players = [rand_play, first_play, last_play, score_play]\n",
    "round_robin(players)"
   ]
  },
  {
   "cell_type": "code",
   "execution_count": 11,
   "metadata": {},
   "outputs": [],
   "source": [
    "import pickle\n",
    "mediocre_table = pickle.load(open('nannon/mediocre_table.p', 'rb'))\n",
    "print(dict(list(mediocre_table.items())[:5]))\n"
   ]
  },
  {
   "cell_type": "code",
   "execution_count": 22,
   "metadata": {},
   "outputs": [
    {
     "name": "stdout",
     "output_type": "stream",
     "text": [
      "Before: [[0.60018041 0.60921318 0.74879427 0.72999071]]\n",
      "After [[0.02426062 0.98082423 0.97728005 0.01916943]]\n"
     ]
    }
   ],
   "source": [
    "input_nodes = 2\n",
    "hidden_nodes = 6\n",
    "output_nodes = 1\n",
    "learning_rate = 0.3\n",
    "\n",
    "# Creates an instance of the scratch neural network.\n",
    "# Here we teach it how to produce correct \"XOR\" output.\n",
    "n = ScratchNetwork(input_nodes, hidden_nodes, output_nodes, learning_rate)\n",
    "X = [[0,0],\n",
    "     [0,1],\n",
    "     [1,0],\n",
    "     [1,1]]\n",
    "y = [[0],\n",
    "     [1],\n",
    "     [1],\n",
    "     [0]]\n",
    "\n",
    "print('Before:', n.query(X))\n",
    "for _ in range(5000):\n",
    "    n.train(X, y)\n",
    "print('After', n.query(X))"
   ]
  },
  {
   "cell_type": "code",
   "execution_count": 94,
   "metadata": {},
   "outputs": [
    {
     "name": "stdout",
     "output_type": "stream",
     "text": [
      "    o||oo--**||*  \n",
      "((0, 2, 3), (0, 1, 2))\n",
      "    o||-oo-**||*  \n"
     ]
    }
   ],
   "source": [
    "# this shows the value player working\n",
    "\n",
    "print_board(start_pos)\n",
    "npos = value_play(start_pos, 2)\n",
    "print(npos)\n",
    "print_board(npos)"
   ]
  },
  {
   "cell_type": "code",
   "execution_count": 217,
   "metadata": {},
   "outputs": [
    {
     "data": {
      "text/plain": [
       "0.609"
      ]
     },
     "execution_count": 217,
     "metadata": {},
     "output_type": "execute_result"
    }
   ],
   "source": [
    "# This runs value player which is written in players.py\n",
    "play_tourn(value_play, rand_play)\n"
   ]
  },
  {
   "cell_type": "code",
   "execution_count": 220,
   "metadata": {},
   "outputs": [
    {
     "name": "stdout",
     "output_type": "stream",
     "text": [
      "[(6, 7, 7, 4, 5, 6)]\n",
      "[[0.60889057]]\n",
      "[[0.99228565]]\n"
     ]
    }
   ],
   "source": [
    "x, y = organize_input()\n",
    "net = ScratchNetwork(6, 12, 1)\n",
    "# for pos in x:\n",
    "#     print(net.query(pos))\n",
    "pos_to_train = x[0]\n",
    "print(pos_to_train)\n",
    "print(net.query(pos_to_train))\n",
    "for _ in range(1000):\n",
    "    net.train(pos_to_train, 1)\n",
    "    #print(net.query(pos_to_train))\n",
    "print(net.query(pos_to_train))\n",
    "\n",
    "    "
   ]
  },
  {
   "cell_type": "code",
   "execution_count": null,
   "metadata": {},
   "outputs": [],
   "source": []
  },
  {
   "cell_type": "code",
   "execution_count": 280,
   "metadata": {},
   "outputs": [
    {
     "data": {
      "text/plain": [
       "<nannon.scratch_nn.ScratchNetwork at 0x11bc65588>"
      ]
     },
     "execution_count": 280,
     "metadata": {},
     "output_type": "execute_result"
    }
   ],
   "source": [
    "# hill climbing\n",
    "#use two networks and run against each other\n",
    "#duplicate the winning position and replace loser, then add noise\n",
    "# have mutate method that takes the weights of neural network, and adds noise (small value from a random generated weight with smaller range)\n",
    "\n",
    "def training():\n",
    "    n1 = ScratchNetwork(6, 12, 1)\n",
    "    n2 = ScratchNetwork(6, 12, 1)\n",
    "    for i in range(0,1000): #1000\n",
    "        if play_tourn(neurotest(n1), neurotest(n2)) > 0.5:\n",
    "            random_init_range = pow(n1.n_input, -0.5)\n",
    "            n1.weights_ih = n.weights_ih + np.random.normal(0.0, random_init_range,\n",
    "                                                (n1.n_hidden, n1.n_input))\n",
    "            n1.weights_ho = n.weights_ho + np.random.normal(0.0, random_init_range,\n",
    "                                                (n1.n_output, n1.n_hidden))\n",
    "            n2 = copy.copy(n1) \n",
    "            return n1\n",
    "        else:\n",
    "            random_init_range = pow(n1.n_input, -0.5)\n",
    "            n2.weights_ih = n.weights_ih + np.random.normal(0.0, random_init_range,\n",
    "                                                (n2.n_hidden, n2.n_input))\n",
    "            n2.weights_ho = n.weights_ho + np.random.normal(0.0, random_init_range,\n",
    "                                                (n2.n_output, n2.n_hidden))\n",
    "            n1 = copy.copy(n2)\n",
    "            return n2\n",
    "\n",
    "training()\n"
   ]
  },
  {
   "cell_type": "code",
   "execution_count": 291,
   "metadata": {},
   "outputs": [
    {
     "data": {
      "text/plain": [
       "0.41"
      ]
     },
     "execution_count": 291,
     "metadata": {},
     "output_type": "execute_result"
    }
   ],
   "source": [
    "# this is the result of a random player vs a trained neuroplayer through hill climbing\n",
    "play_tourn(rand_play,neurotest(training()))"
   ]
  },
  {
   "cell_type": "code",
   "execution_count": 238,
   "metadata": {},
   "outputs": [
    {
     "name": "stdout",
     "output_type": "stream",
     "text": [
      "((0, 2, 7), (0, 1, 2))\n",
      "(0, 2, 7, 0, 1, 2)\n",
      "0.8882117730281349\n",
      "((0, 1, 7), (0, 1, 2))\n",
      "(0, 1, 7, 0, 1, 2)\n",
      "0.879992541919527\n"
     ]
    },
    {
     "data": {
      "text/plain": [
       "(0, 2, 7, 0, 1, 2)"
      ]
     },
     "execution_count": 238,
     "metadata": {},
     "output_type": "execute_result"
    }
   ],
   "source": [
    "# this is a test of the neuroplayer\n",
    "n = neurotest(ScratchNetwork(6, 12, 1))\n",
    "n(start_pos, 6)"
   ]
  },
  {
   "cell_type": "code",
   "execution_count": 337,
   "metadata": {},
   "outputs": [
    {
     "data": {
      "text/plain": [
       "0.44"
      ]
     },
     "execution_count": 337,
     "metadata": {},
     "output_type": "execute_result"
    }
   ],
   "source": [
    "# this is the neuro player algorithm that uses neural networks to value a move\n",
    "def neurotest(n):\n",
    "    def neuro_player(pos, roll):\n",
    "        best_move = []\n",
    "        best_val = 0\n",
    "        lm = legal_moves(pos,roll)\n",
    "        for moves in lm:\n",
    "            move = (make_move(pos, moves, roll))\n",
    "            move1 = (list(move)[0]+list(move)[1])\n",
    "            value = n.query(move1)[0][0]\n",
    "            if value > best_val:\n",
    "                best_val = value\n",
    "                best_move = move\n",
    "        return best_move    \n",
    "    return neuro_player\n",
    "\n",
    "n = ScratchNetwork(6, 12, 1)\n",
    "play_tourn(rand_play, neurotest(training()))                \n"
   ]
  },
  {
   "cell_type": "code",
   "execution_count": null,
   "metadata": {},
   "outputs": [],
   "source": []
  },
  {
   "cell_type": "code",
   "execution_count": 196,
   "metadata": {},
   "outputs": [
    {
     "data": {
      "text/plain": [
       "((0, 2, 3), (0, 1, 2))"
      ]
     },
     "execution_count": 196,
     "metadata": {},
     "output_type": "execute_result"
    }
   ],
   "source": [
    "# This is the expectimax algorithm that finds the best possible move by minimizing the opponents strength of moves\n",
    "import pickle\n",
    "\n",
    "def expectimax(pos, roll):\n",
    "    mediocre_table = pickle.load(open('nannon/mediocre_table.p', 'rb'))\n",
    "    lm = legal_moves(pos, roll)\n",
    "    candidates = []\n",
    "    for move in lm:\n",
    "        pos2 = swap_players(make_move(pos, move, roll))\n",
    "        current = []\n",
    "        for n in range(1,7):\n",
    "            lm2 = legal_moves(pos2, n)\n",
    "            for move2 in lm2:\n",
    "                pos3 = make_move(pos2, move2, n)\n",
    "                current.append((move, mediocre_table.get(pos3)))\n",
    "        best_move1= max(current, key=lambda x: x[1])\n",
    "        candidates.append(best_move1)\n",
    "    right_move = min(candidates, key=lambda x: x[1])\n",
    "    x, _ = right_move\n",
    "    return make_move(pos, x, roll)    \n",
    "        \n",
    "expectimax(start_pos, 2)"
   ]
  },
  {
   "cell_type": "code",
   "execution_count": 198,
   "metadata": {},
   "outputs": [
    {
     "data": {
      "text/plain": [
       "((0, 2, 3), (0, 1, 2))"
      ]
     },
     "execution_count": 198,
     "metadata": {},
     "output_type": "execute_result"
    }
   ],
   "source": [
    "#This runs expectimax for starting pos\n",
    "expectimax(start_pos,2)"
   ]
  },
  {
   "cell_type": "code",
   "execution_count": 202,
   "metadata": {},
   "outputs": [
    {
     "data": {
      "text/plain": [
       "0.507"
      ]
     },
     "execution_count": 202,
     "metadata": {},
     "output_type": "execute_result"
    }
   ],
   "source": [
    "#this plays a tournament with expectimax and value_play\n",
    "play_tourn(expectimax, value_play)"
   ]
  },
  {
   "cell_type": "code",
   "execution_count": 204,
   "metadata": {},
   "outputs": [
    {
     "data": {
      "text/plain": [
       "0.628"
      ]
     },
     "execution_count": 204,
     "metadata": {},
     "output_type": "execute_result"
    }
   ],
   "source": [
    "#This plays a tournament with expectimax and rand_play\n",
    "play_tourn(expectimax, rand_play)"
   ]
  },
  {
   "cell_type": "code",
   "execution_count": 310,
   "metadata": {},
   "outputs": [
    {
     "name": "stdout",
     "output_type": "stream",
     "text": [
      "2\n",
      "(0, 1, 4)\n"
     ]
    }
   ],
   "source": [
    "# this is not needed\n",
    "import random\n",
    "\n",
    "m = legal_moves(pos,roll)\n",
    "    candidates = []\n",
    "    pick random move\n",
    "    me = make_move(pos, move, roll)\n",
    "    save move to list\n",
    "    candidates.append(move)\n",
    "    return make_move(pos, move, roll)\n",
    "\n",
    "def match_box_play(pos, roll):\n",
    "    \n",
    "    lm = legal_moves(pos, roll)\n",
    "    move = random.choice(lm)\n",
    "    print(move)\n",
    "    print(me)\n",
    "    save move to list\n",
    "    return make_move(pos, move, roll)\n",
    "    \n",
    "match_box_play(start_pos, 2)"
   ]
  },
  {
   "cell_type": "code",
   "execution_count": 345,
   "metadata": {},
   "outputs": [
    {
     "ename": "Exception",
     "evalue": "Invalid move!",
     "output_type": "error",
     "traceback": [
      "\u001b[0;31m---------------------------------------------------------------------------\u001b[0m",
      "\u001b[0;31mException\u001b[0m                                 Traceback (most recent call last)",
      "\u001b[0;32m<ipython-input-345-34ce7e1db143>\u001b[0m in \u001b[0;36m<module>\u001b[0;34m\u001b[0m\n\u001b[1;32m     42\u001b[0m     \u001b[0;32mreturn\u001b[0m \u001b[0mmake_move\u001b[0m\u001b[0;34m(\u001b[0m\u001b[0mpos\u001b[0m\u001b[0;34m,\u001b[0m \u001b[0mmove\u001b[0m\u001b[0;34m,\u001b[0m \u001b[0mroll\u001b[0m\u001b[0;34m)\u001b[0m\u001b[0;34m\u001b[0m\u001b[0;34m\u001b[0m\u001b[0m\n\u001b[1;32m     43\u001b[0m \u001b[0;34m\u001b[0m\u001b[0m\n\u001b[0;32m---> 44\u001b[0;31m \u001b[0mmatchbox_play\u001b[0m\u001b[0;34m(\u001b[0m\u001b[0mstart_pos\u001b[0m\u001b[0;34m,\u001b[0m \u001b[0;36m2\u001b[0m\u001b[0;34m)\u001b[0m\u001b[0;34m\u001b[0m\u001b[0;34m\u001b[0m\u001b[0m\n\u001b[0m\u001b[1;32m     45\u001b[0m \u001b[0;34m\u001b[0m\u001b[0m\n\u001b[1;32m     46\u001b[0m \u001b[0;34m\u001b[0m\u001b[0m\n",
      "\u001b[0;32m<ipython-input-345-34ce7e1db143>\u001b[0m in \u001b[0;36mmatchbox_play\u001b[0;34m(pos, roll)\u001b[0m\n\u001b[1;32m     40\u001b[0m \u001b[0;34m\u001b[0m\u001b[0m\n\u001b[1;32m     41\u001b[0m     \u001b[0;31m#save move to list\u001b[0m\u001b[0;34m\u001b[0m\u001b[0;34m\u001b[0m\u001b[0;34m\u001b[0m\u001b[0m\n\u001b[0;32m---> 42\u001b[0;31m     \u001b[0;32mreturn\u001b[0m \u001b[0mmake_move\u001b[0m\u001b[0;34m(\u001b[0m\u001b[0mpos\u001b[0m\u001b[0;34m,\u001b[0m \u001b[0mmove\u001b[0m\u001b[0;34m,\u001b[0m \u001b[0mroll\u001b[0m\u001b[0;34m)\u001b[0m\u001b[0;34m\u001b[0m\u001b[0;34m\u001b[0m\u001b[0m\n\u001b[0m\u001b[1;32m     43\u001b[0m \u001b[0;34m\u001b[0m\u001b[0m\n\u001b[1;32m     44\u001b[0m \u001b[0mmatchbox_play\u001b[0m\u001b[0;34m(\u001b[0m\u001b[0mstart_pos\u001b[0m\u001b[0;34m,\u001b[0m \u001b[0;36m2\u001b[0m\u001b[0;34m)\u001b[0m\u001b[0;34m\u001b[0m\u001b[0;34m\u001b[0m\u001b[0m\n",
      "\u001b[0;32m~/Downloads/nannon_skeleton-3/nannon/logic.py\u001b[0m in \u001b[0;36mmake_move\u001b[0;34m(pos, checker, roll)\u001b[0m\n\u001b[1;32m    131\u001b[0m \u001b[0;32mdef\u001b[0m \u001b[0mmake_move\u001b[0m\u001b[0;34m(\u001b[0m\u001b[0mpos\u001b[0m\u001b[0;34m,\u001b[0m \u001b[0mchecker\u001b[0m\u001b[0;34m,\u001b[0m \u001b[0mroll\u001b[0m\u001b[0;34m)\u001b[0m\u001b[0;34m:\u001b[0m\u001b[0;34m\u001b[0m\u001b[0;34m\u001b[0m\u001b[0m\n\u001b[1;32m    132\u001b[0m     \u001b[0;32mif\u001b[0m \u001b[0mchecker\u001b[0m \u001b[0;32mnot\u001b[0m \u001b[0;32min\u001b[0m \u001b[0mlegal_moves\u001b[0m\u001b[0;34m(\u001b[0m\u001b[0mpos\u001b[0m\u001b[0;34m,\u001b[0m \u001b[0mroll\u001b[0m\u001b[0;34m)\u001b[0m\u001b[0;34m:\u001b[0m\u001b[0;34m\u001b[0m\u001b[0;34m\u001b[0m\u001b[0m\n\u001b[0;32m--> 133\u001b[0;31m         \u001b[0;32mraise\u001b[0m \u001b[0mException\u001b[0m\u001b[0;34m(\u001b[0m\u001b[0;34m'Invalid move!'\u001b[0m\u001b[0;34m)\u001b[0m\u001b[0;34m\u001b[0m\u001b[0;34m\u001b[0m\u001b[0m\n\u001b[0m\u001b[1;32m    134\u001b[0m     \u001b[0;32mif\u001b[0m \u001b[0mchecker\u001b[0m \u001b[0;34m==\u001b[0m \u001b[0mg\u001b[0m\u001b[0;34m.\u001b[0m\u001b[0mpassv\u001b[0m\u001b[0;34m:\u001b[0m\u001b[0;34m\u001b[0m\u001b[0;34m\u001b[0m\u001b[0m\n\u001b[1;32m    135\u001b[0m         \u001b[0;32mreturn\u001b[0m \u001b[0mpos\u001b[0m \u001b[0;31m# Returns orig if a pass is sent.\u001b[0m\u001b[0;34m\u001b[0m\u001b[0;34m\u001b[0m\u001b[0m\n",
      "\u001b[0;31mException\u001b[0m: Invalid move!"
     ]
    }
   ],
   "source": [
    "# ** I was unable to get this code to work so i wrote it out in text/pseudocode for what I was trying to do **\n",
    "\n",
    "# get all positions in the game, give each position 25 beads\n",
    "# play a game with another match_box player\n",
    "# for each move get all beads/legal moves and randomly select a bead(which determines the move to make)\n",
    "# save each move in a list for each player\n",
    "#  Use a step function to weigh the values of the beads more towards later positions.\n",
    "# at the end of the game, for the winner add 3 beads to all positions moved\n",
    "#      take away 1 bead to all positions from the loser moved\n",
    "# How many times to run?\n",
    "# \n",
    "import random\n",
    "\n",
    "pos_table = {}\n",
    "pos_table2 = {}\n",
    "play1_moves = []\n",
    "play2_moves = []\n",
    "\n",
    "def match_box(pos, roll):\n",
    "    \n",
    "    table = explore()\n",
    "    for pos in table:\n",
    "        pos_table[pos] = 25\n",
    "    pos_table2 = pos_table.copy()\n",
    "    play1_moves = []\n",
    "    play2_moves = []\n",
    "    # this will then run games between two match box players 1000 times\n",
    "        # after each game in the loop, the pos_tables will be updated based on the results of the game\n",
    "        # The length will be divided up into 5 sections, in step function fashion the positions made will have the number\n",
    "            #of beads adjusted accordingly for the winning player\n",
    "            #for example if the move list was 15 moves long, the first 3 moves would gain 1 bead, the next 3 would gain 2,\n",
    "            #the next 3 would gain 3 beads and so on and so forth\n",
    "        # the length of the losing player will be divided into 3 sections, and similarly lose beads in step function fashion,\n",
    "            #Ex: the first 5 would lose 1 bead, next 5 would lose 2 bead, last 5 would lose 3 beads\n",
    "    # after the 1000 games have finished there should remain a table with the most optimal moves given the number of beads,\n",
    "        #in each position\n",
    "    #this player will then match off against other players after it has finished training/learning\n",
    "    \n",
    "    \n",
    "    \n",
    "    #for n in range(1000):\n",
    "     #   play_game(matchbox_play(pos, roll), matchbox_play(pos,roll))\n",
    "     #   update tables\n",
    "    #lm = legal_moves(pos, roll)\n",
    "    \n",
    "def matchbox_play(pos, roll):\n",
    "    # play a game between two matchbox players\n",
    "    # matchbox player 1 will select a legal move by picking randomly from the beads associated with those legal moves\n",
    "    # after that move player 2 will do the same thing\n",
    "    # following each move, the moves will be recorded into play1_moves and play2_moves respectivley\n",
    "    # this will repeat until a player has won the game, following which the will as well as the move list will be returned\n",
    "    \n",
    "    lm = legal_moves(pos, roll)\n",
    "    for moves in lm:\n",
    "        move_list = [-1]\n",
    "        for item in pos_table:\n",
    "            print(make_move(pos,moves,roll))\n",
    "            if make_move(pos,moves,roll) == n:\n",
    "                move_list.append(n)\n",
    "    move = random.choice(move_list)\n",
    "\n",
    "    #save move to list\n",
    "    return make_move(pos, move, roll)\n",
    "\n",
    "matchbox_play(start_pos, 2)\n",
    "\n",
    "    \n"
   ]
  },
  {
   "cell_type": "code",
   "execution_count": 346,
   "metadata": {},
   "outputs": [
    {
     "ename": "SyntaxError",
     "evalue": "invalid syntax (<ipython-input-346-ba578aa2671c>, line 20)",
     "output_type": "error",
     "traceback": [
      "\u001b[0;36m  File \u001b[0;32m\"<ipython-input-346-ba578aa2671c>\"\u001b[0;36m, line \u001b[0;32m20\u001b[0m\n\u001b[0;31m    n.train[[2positions],[train]]\u001b[0m\n\u001b[0m                      ^\u001b[0m\n\u001b[0;31mSyntaxError\u001b[0m\u001b[0;31m:\u001b[0m invalid syntax\n"
     ]
    }
   ],
   "source": [
    "# this is the algorithm for back propogation where moves are valued using the value table and trained against one another\n",
    "\n",
    "import pickle\n",
    "\n",
    "def back_prop():\n",
    "    net = ScratchNetwork(6,12,1)\n",
    "    mediocre_table = pickle.load(open('nannon/mediocre_table.p', 'rb'))\n",
    "    lm = legal_moves(pos, roll)    \n",
    "    for move in lm:\n",
    "        if len(lm) == 1:\n",
    "            return move\n",
    "        elif len(lm)==2:\n",
    "            move1_val = mediocretable.get(1)\n",
    "            move2_val = mediocretable.get(2)\n",
    "            if move1_val > move2_val:\n",
    "                train = 1\n",
    "            else:\n",
    "                train = 0\n",
    "            for n in range(100):\n",
    "                n.train[[2positions],[train]]\n",
    "            #return greater val\n",
    "            return move\n",
    "        elif len(lm) == 3:\n",
    "            move1_val = mediocretable.get(1)\n",
    "            move2_val = mediocretable.get(2)\n",
    "            if move1val > move2val:\n",
    "                train = 1\n",
    "            else:\n",
    "                train = 0\n",
    "            for n in range(100):\n",
    "                n.train[[2positions],[train]]\n",
    "            #compare greater val with move 3\n",
    "            #train\n",
    "            return move\n",
    "\n",
    "        \n",
    "    "
   ]
  },
  {
   "cell_type": "code",
   "execution_count": 338,
   "metadata": {},
   "outputs": [
    {
     "data": {
      "text/plain": [
       "array([[0, 1, 0, 0, 0, 0, 0],\n",
       "       [0, 0, 0, 0, 0, 0, 0],\n",
       "       [1, 1, 0, 0, 0, 0, 1],\n",
       "       [1, 1, 1, 0, 0, 0, 1],\n",
       "       [1, 1, 1, 1, 0, 0, 1],\n",
       "       [1, 1, 1, 1, 1, 0, 1],\n",
       "       [1, 1, 0, 0, 0, 0, 0]])"
      ]
     },
     "execution_count": 338,
     "metadata": {},
     "output_type": "execute_result"
    }
   ],
   "source": [
    "# this is the round robin result of all the players and algorithms I got functioning\n",
    "\n",
    "players = [rand_play, first_play, last_play, score_play, value_play, expectimax, neurotest(training())]\n",
    "round_robin(players)"
   ]
  },
  {
   "cell_type": "code",
   "execution_count": null,
   "metadata": {},
   "outputs": [],
   "source": []
  }
 ],
 "metadata": {
  "kernelspec": {
   "display_name": "Python 3",
   "language": "python",
   "name": "python3"
  },
  "language_info": {
   "codemirror_mode": {
    "name": "ipython",
    "version": 3
   },
   "file_extension": ".py",
   "mimetype": "text/x-python",
   "name": "python",
   "nbconvert_exporter": "python",
   "pygments_lexer": "ipython3",
   "version": "3.7.1"
  }
 },
 "nbformat": 4,
 "nbformat_minor": 2
}
